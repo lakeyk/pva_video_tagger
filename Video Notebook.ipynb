{
 "cells": [
  {
   "cell_type": "markdown",
   "id": "80f38c2a-10fc-4a58-b6b9-49d83dfaa124",
   "metadata": {},
   "source": [
    "### PVA Video Coder"
   ]
  },
  {
   "cell_type": "code",
   "execution_count": 111,
   "id": "d8421b10-de32-461f-90ca-af205bb96c27",
   "metadata": {},
   "outputs": [],
   "source": [
    "!python organize_videos.py"
   ]
  },
  {
   "cell_type": "markdown",
   "id": "f21b17c4-a581-49fa-997c-1eb7bc987324",
   "metadata": {},
   "source": [
    "### Create table instead of a tree to hold athletes, make it editable"
   ]
  },
  {
   "cell_type": "code",
   "execution_count": null,
   "id": "30d529cb-0d2d-4ca3-b970-2a16c16df236",
   "metadata": {},
   "outputs": [],
   "source": []
  }
 ],
 "metadata": {
  "kernelspec": {
   "display_name": "Python 3 (ipykernel)",
   "language": "python",
   "name": "python3"
  },
  "language_info": {
   "codemirror_mode": {
    "name": "ipython",
    "version": 3
   },
   "file_extension": ".py",
   "mimetype": "text/x-python",
   "name": "python",
   "nbconvert_exporter": "python",
   "pygments_lexer": "ipython3",
   "version": "3.9.13"
  }
 },
 "nbformat": 4,
 "nbformat_minor": 5
}
